{
 "metadata": {
  "name": "",
  "signature": "sha256:6904ab81e6f8eea516dea2ab80be1b84eedbf12474418323f40d963718a2c1e0"
 },
 "nbformat": 3,
 "nbformat_minor": 0,
 "worksheets": [
  {
   "cells": [
    {
     "cell_type": "code",
     "collapsed": false,
     "input": [
      "from random import randint\n",
      "\n",
      "board = []\n",
      "\n",
      "for x in range(5):\n",
      "    board.append([\"O\"] * 5)\n",
      "\n",
      "def print_board(board):\n",
      "    for row in board:\n",
      "        print \" \".join(row)\n",
      "\n",
      "print \"Let's play Battleship!\"\n",
      "print_board(board)\n",
      "\n",
      "def random_row(board):\n",
      "    return randint(0, len(board) - 1)\n",
      "\n",
      "def random_col(board):\n",
      "    return randint(0, len(board[0]) - 1)\n",
      "\n",
      "ship_row = random_row(board)\n",
      "ship_col = random_col(board)\n",
      "\n",
      "#Main game loop, four turns\n",
      "for turn in range(4):\n",
      "    guess_row = int(raw_input(\"Guess Row:\"))\n",
      "    guess_col = int(raw_input(\"Guess Col:\"))\n",
      "\n",
      "    if guess_row == ship_row and guess_col == ship_col:\n",
      "        print \"Congratulations! You sunk my battleship!\"\n",
      "        break\n",
      "    else:\n",
      "        if (guess_row < 0 or guess_row > 4) or (guess_col < 0 or guess_col > 4):\n",
      "            print \"Oops, that's not even in the ocean.\"\n",
      "        elif(board[guess_row][guess_col] == \"X\"):\n",
      "            print \"You guessed that one already.\"\n",
      "        else:\n",
      "            print \"You missed my battleship!\"\n",
      "            board[guess_row][guess_col] = \"X\"\n",
      "        if turn == 3: print \"Game Over\"\n",
      "        print \"Turn\", turn + 1\n",
      "        print_board(board)"
     ],
     "language": "python",
     "metadata": {},
     "outputs": [
      {
       "output_type": "stream",
       "stream": "stdout",
       "text": [
        "Let's play Battleship!\n",
        "O O O O O\n",
        "O O O O O\n",
        "O O O O O\n",
        "O O O O O\n",
        "O O O O O\n"
       ]
      },
      {
       "name": "stdout",
       "output_type": "stream",
       "stream": "stdout",
       "text": [
        "Guess Row:4\n"
       ]
      },
      {
       "name": "stdout",
       "output_type": "stream",
       "stream": "stdout",
       "text": [
        "Guess Col:4\n"
       ]
      },
      {
       "output_type": "stream",
       "stream": "stdout",
       "text": [
        "You missed my battleship!\n",
        "Turn 1\n",
        "O O O O O\n",
        "O O O O O\n",
        "O O O O O\n",
        "O O O O O\n",
        "O O O O X\n"
       ]
      },
      {
       "name": "stdout",
       "output_type": "stream",
       "stream": "stdout",
       "text": [
        "Guess Row:2\n"
       ]
      },
      {
       "name": "stdout",
       "output_type": "stream",
       "stream": "stdout",
       "text": [
        "Guess Col:2\n"
       ]
      },
      {
       "output_type": "stream",
       "stream": "stdout",
       "text": [
        "You missed my battleship!\n",
        "Turn 2\n",
        "O O O O O\n",
        "O O O O O\n",
        "O O X O O\n",
        "O O O O O\n",
        "O O O O X\n"
       ]
      },
      {
       "name": "stdout",
       "output_type": "stream",
       "stream": "stdout",
       "text": [
        "Guess Row:3\n"
       ]
      },
      {
       "name": "stdout",
       "output_type": "stream",
       "stream": "stdout",
       "text": [
        "Guess Col:3\n"
       ]
      },
      {
       "output_type": "stream",
       "stream": "stdout",
       "text": [
        "You missed my battleship!\n",
        "Turn 3\n",
        "O O O O O\n",
        "O O O O O\n",
        "O O X O O\n",
        "O O O X O\n",
        "O O O O X\n"
       ]
      },
      {
       "name": "stdout",
       "output_type": "stream",
       "stream": "stdout",
       "text": [
        "Guess Row:1\n"
       ]
      },
      {
       "name": "stdout",
       "output_type": "stream",
       "stream": "stdout",
       "text": [
        "Guess Col:1\n"
       ]
      },
      {
       "output_type": "stream",
       "stream": "stdout",
       "text": [
        "You missed my battleship!\n",
        "Game Over\n",
        "Turn 4\n",
        "O O O O O\n",
        "O X O O O\n",
        "O O X O O\n",
        "O O O X O\n",
        "O O O O X\n"
       ]
      }
     ],
     "prompt_number": 3
    },
    {
     "cell_type": "code",
     "collapsed": false,
     "input": [],
     "language": "python",
     "metadata": {},
     "outputs": []
    }
   ],
   "metadata": {}
  }
 ]
}
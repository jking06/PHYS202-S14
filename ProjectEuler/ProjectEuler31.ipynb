{
 "metadata": {
  "name": "",
  "signature": "sha256:298ba9ee4a7fa8b8ff4f31565f733c58eb7da56cc61e2efd294b3aed9fe2d749"
 },
 "nbformat": 3,
 "nbformat_minor": 0,
 "worksheets": [
  {
   "cells": [
    {
     "cell_type": "heading",
     "level": 1,
     "metadata": {},
     "source": [
      "Project Euler 31"
     ]
    },
    {
     "cell_type": "markdown",
     "metadata": {},
     "source": [
      "Coin sums\n",
      "\n",
      "In England the currency is made up of pound, \u00a3, and pence, p, and there are eight coins in general circulation:\n",
      "\n",
      "    1p, 2p, 5p, 10p, 20p, 50p, \u00a31 (100p) and \u00a32 (200p).\n",
      "\n",
      "It is possible to make \u00a32 in the following way:\n",
      "\n",
      "    1\u00d7\u00a31 + 1\u00d750p + 2\u00d720p + 1\u00d75p + 1\u00d72p + 3\u00d71p\n",
      "\n",
      "How many different ways can \u00a32 be made using any number of coins?\n"
     ]
    },
    {
     "cell_type": "code",
     "collapsed": false,
     "input": [
      "# Since we can 'fill' with pennies, another way of asking this is \n",
      "# How many ways can we add 2s, 5s, 10s, 20s, 50s and 100s so sum is <= 200 (plus 1 for 2quid coin)\n",
      "coins = [0, 0, 0, 0, 0, 0]\n",
      "coinVals = [2, 5, 10, 20, 50, 100]\n",
      "\n",
      "def coinSum(coins):\n",
      "    cSum = 0\n",
      "    for x in range(6):\n",
      "        cSum += coins[x] * coinVals[x]\n",
      "    return cSum\n",
      "\n",
      "def tryCount(bound):\n",
      "    count = 0\n",
      "    while count < bound:\n",
      "        if coinSum(coins) <= 200:\n",
      "            count += 1\n",
      "        coins[0] += 1\n",
      "        if coins[5] == 2:\n",
      "            break\n",
      "        for x in range(6):\n",
      "            if coins[x] > 200 / coinVals[x]:\n",
      "                coins[x+1] += 1\n",
      "                coins[x] = 0\n",
      "    print count"
     ],
     "language": "python",
     "metadata": {},
     "outputs": [],
     "prompt_number": 20
    },
    {
     "cell_type": "code",
     "collapsed": false,
     "input": [
      "tryCount(73900) # Due to timing issues, cheated and looked up a 'reasonable' upper bound"
     ],
     "language": "python",
     "metadata": {},
     "outputs": [
      {
       "output_type": "stream",
       "stream": "stdout",
       "text": [
        "73681\n"
       ]
      }
     ],
     "prompt_number": 21
    },
    {
     "cell_type": "code",
     "collapsed": false,
     "input": [],
     "language": "python",
     "metadata": {},
     "outputs": []
    }
   ],
   "metadata": {}
  }
 ]
}
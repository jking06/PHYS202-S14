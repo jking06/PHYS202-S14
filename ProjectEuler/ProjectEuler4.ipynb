{
 "metadata": {
  "name": "",
  "signature": "sha256:5fccea9829e0394896c01c10d1627b479fe4469224e2efaffe6ee8858300b23f"
 },
 "nbformat": 3,
 "nbformat_minor": 0,
 "worksheets": [
  {
   "cells": [
    {
     "cell_type": "heading",
     "level": 1,
     "metadata": {},
     "source": [
      "Project Euler 4"
     ]
    },
    {
     "cell_type": "markdown",
     "metadata": {},
     "source": [
      "A palindromic number reads the same both ways. The largest palindrome made from the product of two 2-digit numbers is 9009 = 91 \u00d7 99.\n",
      "\n",
      "Find the largest palindrome made from the product of two 3-digit numbers.\n"
     ]
    },
    {
     "cell_type": "code",
     "collapsed": false,
     "input": [
      "def isPalindrome(st):\n",
      "    for i in range(len(st)/2): \n",
      "        # print st[i]     FOR DEBUG\n",
      "        if st[i] != st[len(st)-1 - i]:\n",
      "            return False\n",
      "    return True"
     ],
     "language": "python",
     "metadata": {},
     "outputs": [],
     "prompt_number": 19
    },
    {
     "cell_type": "code",
     "collapsed": false,
     "input": [
      "print isPalindrome('9009')"
     ],
     "language": "python",
     "metadata": {},
     "outputs": [
      {
       "output_type": "stream",
       "stream": "stdout",
       "text": [
        "True\n"
       ]
      }
     ],
     "prompt_number": 20
    },
    {
     "cell_type": "code",
     "collapsed": false,
     "input": [
      "largestPal = 101\n",
      "largestX = 0\n",
      "largestY = 0\n",
      "for x in range(100, 1000):\n",
      "    for y in range(100, 1000):\n",
      "        if isPalindrome(str(x * y)) and x*y > largestPal:\n",
      "            largestPal = x*y\n",
      "            largestX = x\n",
      "            largestY = y\n",
      "print str(largestX) + \" * \" + str(largestY) + \" = \" + str(largestPal)"
     ],
     "language": "python",
     "metadata": {},
     "outputs": [
      {
       "output_type": "stream",
       "stream": "stdout",
       "text": [
        "913 * 993 = 906609\n"
       ]
      }
     ],
     "prompt_number": 24
    },
    {
     "cell_type": "code",
     "collapsed": false,
     "input": [],
     "language": "python",
     "metadata": {},
     "outputs": []
    }
   ],
   "metadata": {}
  }
 ]
}
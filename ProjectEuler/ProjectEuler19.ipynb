{
 "metadata": {
  "name": "",
  "signature": "sha256:67f53aa785efd5d62e053c89037034e247c28aff1bcc072f0415d049704b177a"
 },
 "nbformat": 3,
 "nbformat_minor": 0,
 "worksheets": [
  {
   "cells": [
    {
     "cell_type": "heading",
     "level": 1,
     "metadata": {},
     "source": [
      "Project Euler 19"
     ]
    },
    {
     "cell_type": "markdown",
     "metadata": {},
     "source": [
      "You are given the following information, but you may prefer to do some research for yourself.\n",
      "\n",
      "    1 Jan 1900 was a Monday.\n",
      "    Thirty days has September,\n",
      "    April, June and November.\n",
      "    All the rest have thirty-one,\n",
      "    Saving February alone,\n",
      "    Which has twenty-eight, rain or shine.\n",
      "    And on leap years, twenty-nine.\n",
      "    A leap year occurs on any year evenly divisible by 4, but not on a century unless it is divisible by 400.\n",
      "\n",
      "How many Sundays fell on the first of the month during the twentieth century (1 Jan 1901 to 31 Dec 2000)?"
     ]
    },
    {
     "cell_type": "code",
     "collapsed": false,
     "input": [
      "import numpy as np\n",
      "class Century(object):\n",
      "    monthLen = {0: 31, 1: 28, 2: 31, 3: 30, 4: 31, 5: 30, \n",
      "                  6: 31, 7: 31, 8: 30, 9: 31, 10: 30, 11: 31} # Months count from 0. So 0=Jan : 11=Dec\n",
      "    def dayOfWeek(self, x): \n",
      "        return (x-1) % 7 + 1  # Shifted to count from 0 for calculation. Like Months, returned with +1 for easy of viewing\n",
      "    def yearMonthDay(self, x): # STARTS COUNTING FROM 1 = Jan 1, 1900.\n",
      "        leap = False\n",
      "        yr = 1900\n",
      "        mth = 0\n",
      "        dy = 1\n",
      "        while x > 0:\n",
      "            x-=1\n",
      "            dy+=1\n",
      "            # As dy counts up, if it reaches Jan 32 for example, reset to Feb 1.\n",
      "            if dy > self.monthLen[mth] and not (leap and mth==1):   # Normal loop for all months that aren't Leap Year Februarys\n",
      "                dy = 1\n",
      "                mth += 1\n",
      "                if mth == 12: # When reaches month 12 (after Dec), reset to Jan 1st, add a year, and check leap-year-flag.\n",
      "                    mth = 0\n",
      "                    yr += 1\n",
      "                    if (yr % 4 == 0 and not yr % 100 == 0) or yr % 400 == 0:  # If the new year is leap, set flag true.\n",
      "                        leap = True\n",
      "            elif leap and mth==1 and dy > self.monthLen[mth] + 1: # If a leap year and February 29, then proceed to March 1.\n",
      "                dy = 1\n",
      "                mth += 1\n",
      "                leap = False # Set flag back to false now we've counted the extra day.\n",
      "                # Won't ever encounter a new year after february, obviously\n",
      "        return [yr, mth+1, dy] # Returns a list? Probably not best\n",
      "Century = Century()\n",
      "print Century.yearMonthDay(365)\n",
      "#print Century.yearMonthDay(12000)\n",
      "print Century.yearMonthDay(36889)"
     ],
     "language": "python",
     "metadata": {},
     "outputs": [
      {
       "output_type": "stream",
       "stream": "stdout",
       "text": [
        "[1901, 1, 1]\n",
        "[2000, 12, 31]\n"
       ]
      }
     ],
     "prompt_number": 1
    },
    {
     "cell_type": "code",
     "collapsed": false,
     "input": [
      "# Experimenting, I found 1 Jan 1901 to 31 Dec 2000 to mean x between 364 and 36880\n",
      "count = 0\n",
      "for x in range(365, 36890):\n",
      "    if Century.dayOfWeek(x) == 1 and Century.yearMonthDay(x)[2] == 1: # Sunday and Day = 1\n",
      "        count +=1\n",
      "print count"
     ],
     "language": "python",
     "metadata": {},
     "outputs": [
      {
       "output_type": "stream",
       "stream": "stdout",
       "text": [
        "171\n"
       ]
      }
     ],
     "prompt_number": 5
    },
    {
     "cell_type": "code",
     "collapsed": false,
     "input": [],
     "language": "python",
     "metadata": {},
     "outputs": []
    }
   ],
   "metadata": {}
  }
 ]
}
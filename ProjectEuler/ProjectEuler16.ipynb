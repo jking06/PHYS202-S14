{
 "metadata": {
  "name": "",
  "signature": "sha256:97400b1fa1da8e487baefcfa5342105e900898c5db6b54867be08a2b214c9a22"
 },
 "nbformat": 3,
 "nbformat_minor": 0,
 "worksheets": [
  {
   "cells": [
    {
     "cell_type": "heading",
     "level": 1,
     "metadata": {},
     "source": [
      "Project Euler 16"
     ]
    },
    {
     "cell_type": "markdown",
     "metadata": {},
     "source": [
      "Power digit sum\n",
      "\n",
      "$2^{15}$ = 32768 and the sum of its digits is 3 + 2 + 7 + 6 + 8 = 26.\n",
      "\n",
      "What is the sum of the digits of the number $2^{1000}$?\n"
     ]
    },
    {
     "cell_type": "code",
     "collapsed": false,
     "input": [
      "x = 2 ** 1000\n",
      "digsum = 0\n",
      "while x != 0:\n",
      "    digsum += x % 10   # This adds the unit digit to the sum\n",
      "    x = x / 10  # This removes the unit digit from x\n",
      "print digsum"
     ],
     "language": "python",
     "metadata": {},
     "outputs": [
      {
       "output_type": "stream",
       "stream": "stdout",
       "text": [
        "1366\n"
       ]
      }
     ],
     "prompt_number": 4
    },
    {
     "cell_type": "code",
     "collapsed": false,
     "input": [
      "x = 2 ** 15   # Test case\n",
      "print x\n",
      "digsum = 0\n",
      "while x != 0:\n",
      "    digsum += x % 10   # This adds the unit digit to the sum\n",
      "    x = x / 10  # This removes the unit digit from x\n",
      "print digsum"
     ],
     "language": "python",
     "metadata": {},
     "outputs": [
      {
       "output_type": "stream",
       "stream": "stdout",
       "text": [
        "32768\n",
        "26\n"
       ]
      }
     ],
     "prompt_number": 5
    }
   ],
   "metadata": {}
  }
 ]
}
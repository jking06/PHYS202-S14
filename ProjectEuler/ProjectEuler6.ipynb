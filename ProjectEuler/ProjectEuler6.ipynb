{
 "metadata": {
  "name": "",
  "signature": "sha256:89b2b90d3c96b6b6d8f2b4a09e9addb7986dd36144fa841a8ac283a910f9f815"
 },
 "nbformat": 3,
 "nbformat_minor": 0,
 "worksheets": [
  {
   "cells": [
    {
     "cell_type": "heading",
     "level": 1,
     "metadata": {},
     "source": [
      "Project Euler 6"
     ]
    },
    {
     "cell_type": "markdown",
     "metadata": {},
     "source": [
      "Sum square difference\n",
      "\n",
      "The sum of the squares of the first ten natural numbers is,\n",
      "$1^2 + 2^2 + ... + 10^2 = 385$\n",
      "\n",
      "The square of the sum of the first ten natural numbers is,\n",
      "$(1 + 2 + ... + 10)^2 = 55^2 = 3025$\n",
      "\n",
      "Hence the difference between the sum of the squares of the first ten natural numbers and the square of the sum is 3025 \u2212 385 = 2640.\n",
      "\n",
      "Find the difference between the sum of the squares of the first one hundred natural numbers and the square of the sum."
     ]
    },
    {
     "cell_type": "code",
     "collapsed": false,
     "input": [
      "def squareDiff(x):\n",
      "    linSum = 0\n",
      "    sqrSum = 0\n",
      "    for i in range(x):\n",
      "        linSum += (i + 1) # Since range is 0, 1, ... x - 1\n",
      "    for i in range(x):\n",
      "        sqrSum += (i+1) ** 2\n",
      "    #print linSum ** 2\n",
      "    #print sqrSum\n",
      "    return linSum**2 - sqrSum"
     ],
     "language": "python",
     "metadata": {},
     "outputs": [],
     "prompt_number": 10
    },
    {
     "cell_type": "code",
     "collapsed": false,
     "input": [
      "print squareDiff(100)"
     ],
     "language": "python",
     "metadata": {},
     "outputs": [
      {
       "output_type": "stream",
       "stream": "stdout",
       "text": [
        "25164150\n"
       ]
      }
     ],
     "prompt_number": 11
    },
    {
     "cell_type": "code",
     "collapsed": false,
     "input": [
      "print squareDiff(10) # Test case"
     ],
     "language": "python",
     "metadata": {},
     "outputs": [
      {
       "output_type": "stream",
       "stream": "stdout",
       "text": [
        "3025\n",
        "385\n",
        "2640\n"
       ]
      }
     ],
     "prompt_number": 9
    }
   ],
   "metadata": {}
  }
 ]
}
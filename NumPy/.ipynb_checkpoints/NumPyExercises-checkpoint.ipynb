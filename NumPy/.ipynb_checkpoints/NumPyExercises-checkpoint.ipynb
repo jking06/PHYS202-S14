{
 "metadata": {
  "name": "",
  "signature": "sha256:31d0ea9f31c1e8e7313e61c0abb4a876b7d0cad57dfc23992ccbfef7166500fc"
 },
 "nbformat": 3,
 "nbformat_minor": 0,
 "worksheets": [
  {
   "cells": [
    {
     "cell_type": "heading",
     "level": 1,
     "metadata": {},
     "source": [
      "NumPy Exercises"
     ]
    },
    {
     "cell_type": "code",
     "collapsed": false,
     "input": [
      "%pylab inline"
     ],
     "language": "python",
     "metadata": {},
     "outputs": [
      {
       "output_type": "stream",
       "stream": "stdout",
       "text": [
        "Populating the interactive namespace from numpy and matplotlib\n"
       ]
      }
     ],
     "prompt_number": 1
    },
    {
     "cell_type": "code",
     "collapsed": false,
     "input": [
      "arr1 = np.ones((4,4), dtype=int)\n",
      "arr1[2,3] = 2\n",
      "arr1[3,1] = 6\n",
      "arr1"
     ],
     "language": "python",
     "metadata": {},
     "outputs": [
      {
       "metadata": {},
       "output_type": "pyout",
       "prompt_number": 18,
       "text": [
        "array([[1, 1, 1, 1],\n",
        "       [1, 1, 1, 1],\n",
        "       [1, 1, 1, 2],\n",
        "       [1, 6, 1, 1]])"
       ]
      }
     ],
     "prompt_number": 18
    },
    {
     "cell_type": "code",
     "collapsed": false,
     "input": [
      "arr2 = np.diag(arange(2,7), -1)\n",
      "arr2"
     ],
     "language": "python",
     "metadata": {},
     "outputs": [
      {
       "metadata": {},
       "output_type": "pyout",
       "prompt_number": 17,
       "text": [
        "array([[0, 0, 0, 0, 0, 0],\n",
        "       [2, 0, 0, 0, 0, 0],\n",
        "       [0, 3, 0, 0, 0, 0],\n",
        "       [0, 0, 4, 0, 0, 0],\n",
        "       [0, 0, 0, 5, 0, 0],\n",
        "       [0, 0, 0, 0, 6, 0]])"
       ]
      }
     ],
     "prompt_number": 17
    },
    {
     "cell_type": "code",
     "collapsed": false,
     "input": [],
     "language": "python",
     "metadata": {},
     "outputs": []
    }
   ],
   "metadata": {}
  }
 ]
}
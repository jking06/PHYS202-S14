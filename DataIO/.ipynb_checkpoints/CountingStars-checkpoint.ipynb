{
 "metadata": {
  "name": "",
  "signature": "sha256:37fc8592a8173f1acca39d4b9fd509c6085edcec63bcab4ee5e9fd73d27745a9"
 },
 "nbformat": 3,
 "nbformat_minor": 0,
 "worksheets": []
}
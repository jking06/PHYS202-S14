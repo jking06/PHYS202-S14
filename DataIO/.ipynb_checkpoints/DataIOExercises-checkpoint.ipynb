{
 "metadata": {
  "name": "",
  "signature": "sha256:4c5b91528cbd344eb48dd2152d7714cacb641f2b903bd03be8c1d523bffb3c28"
 },
 "nbformat": 3,
 "nbformat_minor": 0,
 "worksheets": [
  {
   "cells": [
    {
     "cell_type": "heading",
     "level": 1,
     "metadata": {},
     "source": [
      "Data I/O Exercises"
     ]
    },
    {
     "cell_type": "code",
     "collapsed": false,
     "input": [
      "%pylab inline\n",
      "import numpy as np"
     ],
     "language": "python",
     "metadata": {},
     "outputs": [
      {
       "output_type": "stream",
       "stream": "stdout",
       "text": [
        "Populating the interactive namespace from numpy and matplotlib\n"
       ]
      }
     ],
     "prompt_number": 2
    },
    {
     "cell_type": "markdown",
     "metadata": {},
     "source": [
      "Here is some code that creates a comma-delimited file of numbers with random precision, leading spaces, and formatting:"
     ]
    },
    {
     "cell_type": "code",
     "collapsed": false,
     "input": [
      "# Don't modify this: it simply writes the example file\n",
      "f = open('messy_data.dat', 'w')\n",
      "import random\n",
      "for i in range(100):\n",
      "    for j in range(5):\n",
      "        f.write(' ' * random.randint(0, 6))\n",
      "        f.write('%0*.*g' % (random.randint(8, 12),\n",
      "                            random.randint(5, 10),\n",
      "                            100 * random.random()))\n",
      "        if j != 4:\n",
      "            f.write(',')\n",
      "    f.write('\\n')\n",
      "f.close()"
     ],
     "language": "python",
     "metadata": {},
     "outputs": [],
     "prompt_number": 3
    },
    {
     "cell_type": "code",
     "collapsed": false,
     "input": [
      "# Look at the first four lines of the file:\n",
      "!head -4 messy_data.dat"
     ],
     "language": "python",
     "metadata": {},
     "outputs": [
      {
       "output_type": "stream",
       "stream": "stdout",
       "text": [
        " 57.57374924, 33.60278677, 000056.8817, 90.17982771,     094.03111378\r\n",
        "7.044960741,  0055.4013,    20.854522,      0075.204,  1.316891\r\n",
        "      0000059.421,   010.5416, 0000063.5435,     1.2576871,07.178899\r\n",
        "      0074.20976,    041.44862854,  00065.921,      34.052815,52.7421469\r\n"
       ]
      }
     ],
     "prompt_number": 4
    },
    {
     "cell_type": "markdown",
     "metadata": {},
     "source": [
      "(a) Write a program that reads in the contents of \"messy_data.dat\" and extracts the numbers from each line, using the string manipulations we used in section 1 (remember that float() will convert a suitable string to a floating-point number)."
     ]
    },
    {
     "cell_type": "code",
     "collapsed": false,
     "input": [
      "f = open('messy_data.dat')\n",
      "data = f.readlines()\n",
      "f.close()\n",
      "cleaned = []\n",
      "for x in data:\n",
      "    line = x.split(',')\n",
      "    for n in line:\n",
      "        if n[-1] == ',':\n",
      "            n = n[:-1]\n",
      "        cleaned += [float(n)]\n",
      "    \n",
      "#print cleaned"
     ],
     "language": "python",
     "metadata": {},
     "outputs": [],
     "prompt_number": 8
    },
    {
     "cell_type": "markdown",
     "metadata": {},
     "source": [
      "(b) Next write out a new file named \"clean_data.dat\". The new file should contain the same data as the old file, but with uniform formatting and aligned columns."
     ]
    },
    {
     "cell_type": "code",
     "collapsed": false,
     "input": [
      "out = open('clean_data.dat', 'w')\n",
      "for x in range(0, len(cleaned), 5):\n",
      "    out.writelines(\n",
      "        str(cleaned[x]).ljust(12) + str(cleaned[x+1]).ljust(12) + str(cleaned[x+2]).ljust(12) + str(cleaned[x+3]).ljust(12) + str(cleaned[x+4]).ljust(12)\n",
      "        )\n",
      "out.close()"
     ],
     "language": "python",
     "metadata": {},
     "outputs": [],
     "prompt_number": 33
    },
    {
     "cell_type": "markdown",
     "metadata": {},
     "source": [
      "(c) Now re-do the same task using NumPy's loadtxt and savetxt functions."
     ]
    },
    {
     "cell_type": "code",
     "collapsed": false,
     "input": [
      "c1, c2, c3, c4, c5 = np.loadtxt('messy_data.dat', delimiter=',', unpack=True)\n",
      "savetxt('clean_data.dat', column_stack((c1, c2, c3, c4, c5)), fmt='%12.8f')"
     ],
     "language": "python",
     "metadata": {},
     "outputs": [],
     "prompt_number": 41
    },
    {
     "cell_type": "code",
     "collapsed": false,
     "input": [],
     "language": "python",
     "metadata": {},
     "outputs": []
    }
   ],
   "metadata": {}
  }
 ]
}
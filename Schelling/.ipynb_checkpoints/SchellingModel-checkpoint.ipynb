{
 "metadata": {
  "name": "",
  "signature": "sha256:18c384535df3acb7a1e7651e037ae174dcc3fac7e1b7987bc86df4f3d5ce4aee"
 },
 "nbformat": 3,
 "nbformat_minor": 0,
 "worksheets": [
  {
   "cells": [
    {
     "cell_type": "raw",
     "metadata": {},
     "source": [
      "functions or object methods to: \n",
      "   resize, randomize (with parameters), getStats [avg dissatisfaction, etc],\n",
      "\n",
      "Evolution function:\n",
      "   read in BG and array, find dissatisfied points (for parameter),\n",
      "   then use one of the MOVE algorithms\n",
      "   \n",
      "MOVE algorithms"
     ]
    },
    {
     "cell_type": "code",
     "collapsed": false,
     "input": [
      "from ipythonblocks import BlockGrid\n",
      "from IPython.html import widgets\n",
      "from IPython.display import display\n",
      "import numpy as np\n",
      "\n",
      "size = 8\n",
      "ratio = 0.5\n",
      "empty = 0.1\n",
      "arr = np.zeros((size, size), dtype=int)  # Just zeros for now\n",
      "        \n",
      "def Randomize(arr, size, ratio, empty):\n",
      "    N = size ** 2\n",
      "    arr = np.random.randint(0, high=3, size=(size, size))\n",
      "    return arr\n",
      "        \n",
      "def Satisfaction(arr, X, Y):\n",
      "    neighbors = -1\n",
      "    same = -1  # The counting below counts (X,Y) cell, so starting at -1 accounts for this\n",
      "    for x in range(X - 1, X + 2):  \n",
      "        for y in range(Y - 1, Y + 2):  # That is, cells (y-1, y, y+1)\n",
      "            if x in range(0, size) and y in range(0, size):\n",
      "                neighbors += 1\n",
      "                if arr[x,y] == arr[X,Y]:\n",
      "                    same += 1\n",
      "    #print neighbors, same       #DEBUG\n",
      "    return float(same)/neighbors\n",
      "\n",
      "def getAvgSat(arr, size):\n",
      "    num = 0\n",
      "    sat = 0\n",
      "    for x in range(size):\n",
      "        for y in range(size):\n",
      "            num += 1\n",
      "            sat += Satisfaction(arr, x, y)\n",
      "    #print num, sat   #DEBUG\n",
      "    return sat / num\n",
      "    \n",
      "def showGrid(arr, size):\n",
      "    grid = BlockGrid(size, size, fill=(240,240,240))  # Just fill for now\n",
      "    grid.show()\n",
      "\n",
      "def RandomMove(arr, threshold):\n",
      "    #Find dissatisfied blocks\n",
      "    dissat = []\n",
      "    for x in range(size):\n",
      "        for y in range(size):\n",
      "            if Satisfaction(arr, x, y) < threshold:\n",
      "                dissat.append((x,y))\n",
      "    #print dissat    #DEBUG\n",
      "    #Random move to a free block\n",
      "    for x in dissat:\n",
      "        empty = arr == 0\n",
      "        empty[x] = True\n",
      "        changed = np.random.permutation(arr[empty])\n",
      "        arr[empty] = changed\n",
      "    return arr\n",
      "\n",
      "def Main():\n",
      "    # Main loop: use BG and ndarray to find dissatisfied,\n",
      "    # use a chosen MOVE algorithm\n",
      "    # display new, and repeat\n",
      "    pass"
     ],
     "language": "python",
     "metadata": {},
     "outputs": [],
     "prompt_number": 178
    },
    {
     "cell_type": "code",
     "collapsed": false,
     "input": [
      "arr = Randomize(arr, 8, .5, .1)\n",
      "print arr"
     ],
     "language": "python",
     "metadata": {},
     "outputs": [
      {
       "output_type": "stream",
       "stream": "stdout",
       "text": [
        "[[2 1 0 1 2 2 2 2]\n",
        " [1 1 0 0 2 2 2 2]\n",
        " [1 1 0 1 1 0 1 2]\n",
        " [1 2 2 2 2 1 1 2]\n",
        " [1 0 2 1 2 2 1 2]\n",
        " [2 1 0 0 1 1 2 2]\n",
        " [1 1 1 1 2 1 1 0]\n",
        " [2 0 2 2 0 1 2 0]]\n"
       ]
      }
     ],
     "prompt_number": 181
    },
    {
     "cell_type": "code",
     "collapsed": false,
     "input": [
      "arr = RandomMove(arr, .30)\n",
      "print arr"
     ],
     "language": "python",
     "metadata": {},
     "outputs": [
      {
       "output_type": "stream",
       "stream": "stdout",
       "text": [
        "[[1 1 1 0 2 2 2 2]\n",
        " [1 1 2 1 2 2 2 2]\n",
        " [1 1 0 1 0 2 1 2]\n",
        " [1 0 2 2 2 1 1 2]\n",
        " [1 1 2 2 2 2 1 2]\n",
        " [0 1 0 2 1 1 2 2]\n",
        " [1 1 1 2 0 1 1 0]\n",
        " [0 0 2 2 0 1 0 2]]\n"
       ]
      }
     ],
     "prompt_number": 182
    },
    {
     "cell_type": "code",
     "collapsed": false,
     "input": [
      "arr"
     ],
     "language": "python",
     "metadata": {},
     "outputs": [
      {
       "metadata": {},
       "output_type": "pyout",
       "prompt_number": 145,
       "text": [
        "array([[1, 0, 0, 0, 1, 2, 1, 1],\n",
        "       [1, 0, 2, 2, 0, 0, 0, 0],\n",
        "       [0, 1, 0, 0, 0, 1, 0, 1],\n",
        "       [2, 2, 2, 0, 1, 1, 1, 2],\n",
        "       [2, 0, 0, 1, 0, 1, 1, 1],\n",
        "       [0, 2, 1, 0, 0, 1, 0, 0],\n",
        "       [2, 1, 0, 0, 1, 2, 2, 0],\n",
        "       [2, 0, 2, 2, 0, 1, 0, 1]])"
       ]
      }
     ],
     "prompt_number": 145
    },
    {
     "cell_type": "code",
     "collapsed": false,
     "input": [
      "print arr\n",
      "print arr[0:2,]\n",
      "np.random.shuffle(arr[0:2,])\n",
      "print arr"
     ],
     "language": "python",
     "metadata": {},
     "outputs": [
      {
       "output_type": "stream",
       "stream": "stdout",
       "text": [
        "[[1 0 2 2 0 0 0 0]\n",
        " [2 1 0 0 1 2 2 0]\n",
        " [2 2 2 0 1 1 1 2]\n",
        " [0 2 1 0 0 1 0 0]\n",
        " [2 0 2 2 0 1 0 1]\n",
        " [2 0 0 1 0 1 1 1]\n",
        " [0 1 0 0 0 1 0 1]\n",
        " [1 0 0 0 1 2 1 1]]\n",
        "[[1 0 2 2 0 0 0 0]\n",
        " [2 1 0 0 1 2 2 0]]\n",
        "[[2 1 0 0 1 2 2 0]\n",
        " [1 0 2 2 0 0 0 0]\n",
        " [2 2 2 0 1 1 1 2]\n",
        " [0 2 1 0 0 1 0 0]\n",
        " [2 0 2 2 0 1 0 1]\n",
        " [2 0 0 1 0 1 1 1]\n",
        " [0 1 0 0 0 1 0 1]\n",
        " [1 0 0 0 1 2 1 1]]\n"
       ]
      }
     ],
     "prompt_number": 152
    },
    {
     "cell_type": "code",
     "collapsed": false,
     "input": [
      "x = arr == 0"
     ],
     "language": "python",
     "metadata": {},
     "outputs": [],
     "prompt_number": 95
    },
    {
     "cell_type": "code",
     "collapsed": false,
     "input": [
      "x"
     ],
     "language": "python",
     "metadata": {},
     "outputs": [
      {
       "metadata": {},
       "output_type": "pyout",
       "prompt_number": 96,
       "text": [
        "array([[False, False, False, False, False,  True, False,  True],\n",
        "       [ True, False, False, False, False,  True, False, False],\n",
        "       [ True, False,  True,  True, False, False, False, False],\n",
        "       [ True,  True,  True,  True,  True, False, False, False],\n",
        "       [ True, False, False, False, False,  True,  True, False],\n",
        "       [False, False, False,  True,  True,  True,  True, False],\n",
        "       [False, False, False,  True, False,  True, False, False],\n",
        "       [False,  True,  True, False, False,  True, False,  True]], dtype=bool)"
       ]
      }
     ],
     "prompt_number": 96
    },
    {
     "cell_type": "code",
     "collapsed": false,
     "input": [
      "emp = np.where( x )"
     ],
     "language": "python",
     "metadata": {},
     "outputs": [],
     "prompt_number": 98
    },
    {
     "cell_type": "code",
     "collapsed": false,
     "input": [
      "len(emp[0])"
     ],
     "language": "python",
     "metadata": {},
     "outputs": [
      {
       "metadata": {},
       "output_type": "pyout",
       "prompt_number": 105,
       "text": [
        "25"
       ]
      }
     ],
     "prompt_number": 105
    },
    {
     "cell_type": "code",
     "collapsed": false,
     "input": [],
     "language": "python",
     "metadata": {},
     "outputs": []
    }
   ],
   "metadata": {}
  }
 ]
}
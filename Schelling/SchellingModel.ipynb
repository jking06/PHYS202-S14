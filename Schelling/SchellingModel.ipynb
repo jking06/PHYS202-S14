{
 "metadata": {
  "name": "",
  "signature": "sha256:8d6f225f0e7fdc84262a092fa3d5da99d72f222b95fb31d6f680a4e9e0313a48"
 },
 "nbformat": 3,
 "nbformat_minor": 0,
 "worksheets": [
  {
   "cells": [
    {
     "cell_type": "code",
     "collapsed": false,
     "input": [
      "from ipythonblocks import BlockGrid\n",
      "from IPython.html import widgets\n",
      "from IPython.html.widgets import interact, interactive\n",
      "from IPython.display import display, clear_output\n",
      "import numpy as np\n",
      "import time\n",
      "\n",
      "staticFlag = 0\n",
      "\n",
      "def Randomize(arr, size, ratio, empty):\n",
      "    \"\"\" Generates a completely new random array of a given size, \n",
      "    with empty cells and ratio of blue/red \"\"\"\n",
      "    flat = np.zeros(size*size) # Creates a 1-dimm array of size N^2, because the Permute function only works on 1-dimm\n",
      "    red = int(size*size * (1-empty) * ratio)\n",
      "    blue = int(size*size * (1-empty) * (1-ratio)) # Number of Reds and Blues the array should have should have\n",
      "    flat[0:red] = 1 # Make first (red) cells red\n",
      "    flat[red:red+blue] = 2 # Make the next all blue. So array now [..red..|..blue..|..empty..]\n",
      "    flat = np.random.permutation(flat) # Array is shuffled\n",
      "    return flat.reshape((size, size)) # Reshaped to Size x Size and returned\n",
      "        \n",
      "def Satisfaction(arr, size, X, Y):\n",
      "    \"\"\" Returns percentage satisfaction of a cell. Empty and Loner cells returns None \"\"\"\n",
      "    if arr[X,Y] == 0:\n",
      "        return None    # Sort of a cheat. We don't care about satisfaction of empty cells\n",
      "    neighbors = -1\n",
      "    same = -1  # The counting loops here will count the 'center' (X,Y) cell, so starting at -1 accounts for this\n",
      "    for x in range(X - 1, X + 2):  \n",
      "        for y in range(Y - 1, Y + 2):  # That is, cells (y-1, y, y+1)\n",
      "            if x in range(0, size) and y in range(0, size):  # Guarentees the cells are in the array\n",
      "                if arr[x,y] != 0:\n",
      "                    neighbors += 1\n",
      "                if arr[x,y] == arr[X,Y]:\n",
      "                    same += 1\n",
      "    if neighbors == -1:  # For DEBUG\n",
      "        print \"Error\", X, Y\n",
      "    if neighbors == 0:  # Loner Satisfaction?\n",
      "        return None\n",
      "    return float(same)/neighbors\n",
      "\n",
      "def getAvgSat(arr, size):\n",
      "    \"\"\" Should get the satisfaction of every cell. Empty cells should return None\n",
      "    Loner cells return ????? (None for now). The avg should only be average of occupied cells\"\"\"\n",
      "    num = 0\n",
      "    sat = 0\n",
      "    for x in range(size):\n",
      "        for y in range(size):\n",
      "            getSat = Satisfaction(arr, size, x, y)\n",
      "            if getSat != None :\n",
      "                num += 1\n",
      "                sat += getSat\n",
      "    #print num, sat   #DEBUG\n",
      "    return sat / num\n",
      "    \n",
      "myColor = {0: (255,255,255), 1: (255,0,0), 2: (0,150,150)}\n",
      "def showGrid(arr, size):\n",
      "    grid = BlockGrid(size, size, lines_on=True)\n",
      "    for x in range(size):\n",
      "        for y in range(size):\n",
      "            grid[x,y] = myColor[arr[x,y]]\n",
      "    grid.show()\n",
      "\n",
      "def Schelling(arr, size, threshold):\n",
      "    \"\"\" Takes an array, moves cells according to the shelling model. Returns array \"\"\"\n",
      "    #Find dissatisfied blocks\n",
      "    dissat = []   # Creates a 1-dimensional array of the disattisfied points as (x,y)-tuples\n",
      "    for x in range(size):\n",
      "        for y in range(size):\n",
      "            #print x, y,    #DEBUG\n",
      "            sat = Satisfaction(arr, size, x, y)\n",
      "            if sat < threshold and sat != None:   # Loners (Sat = NONE) aren't considered disat. None < all.\n",
      "                dissat.append((x,y))\n",
      "    if not dissat:  # If no cells are dissatisfied, the field has converged to a static form.\n",
      "        global staticFlag\n",
      "        staticFlag = 1\n",
      "\n",
      "    #Create a mask of the empty and dissatisfied cells and randomly permutes\n",
      "    empty = arr == 0  # Creates the array 'empty' in the same shape/size as arr, of Bools with True for empty cells\n",
      "    for x in dissat:\n",
      "        empty[x] = True   # Adds the dissatisfed cells.    \n",
      "    changed = np.random.permutation(arr[empty])  # Empty+Disatisfied as a mask over the array. Permute randomly shifts\n",
      "    arr[empty] = changed   # Adds the shifted Empty+Dissatisfied back to the array\n",
      "    return arr"
     ],
     "language": "python",
     "metadata": {},
     "outputs": [],
     "prompt_number": 1
    },
    {
     "cell_type": "code",
     "collapsed": false,
     "input": [
      "currentState = (8, 0.5, 0.1, 1, 0.3)  # Size, Ratio, Empty, Steps, Threshold. Initialized\n",
      "\n",
      "arr = np.zeros((currentState[0], currentState[0]), dtype=int)  # The array, intialized and randomized.\n",
      "arr = Randomize(arr, currentState[0], currentState[1], currentState[2])\n",
      "\n",
      "def controlPanel(size=currentState[0], ratio=currentState[1], empty=currentState[2], threshold = currentState[4], steps = currentState[3]):\n",
      "    global arr, currentState\n",
      "    state = (size, ratio, empty, steps, threshold)\n",
      "    if state != currentState:\n",
      "        arr = Randomize(arr, state[0], state[1], state[2]) # Size, Ratio, Empty\n",
      "        currentState = state\n",
      "        \n",
      "    b.on_click(playButton)\n",
      "\n",
      "def playButton(widget):\n",
      "    global arr, currentState, staticFlag\n",
      "    staticFlag = 0\n",
      "    for i in range(currentState[3]): # Steps\n",
      "        arr = Schelling(arr, currentState[0], currentState[4]) # Size and Threshold\n",
      "        clear_output()\n",
      "        print \"Step:\", (i+1)\n",
      "        print \"Average Satisfaction:\", getAvgSat(arr, currentState[0]) # Size\n",
      "        if staticFlag:\n",
      "            print \"Converged to static\"\n",
      "            showGrid(arr, currentState[0])\n",
      "            break\n",
      "        showGrid(arr, currentState[0])\n",
      "        time.sleep(.25)\n",
      "     \n",
      "b = widgets.ButtonWidget(description='Play')\n",
      "display(b)\n",
      "v = interact(controlPanel, size=(2, 50), ratio=(0.0, 1.0), empty=(0.0, 1.0), threshold = (0., 1.), steps = (1, 300))"
     ],
     "language": "python",
     "metadata": {},
     "outputs": [
      {
       "output_type": "stream",
       "stream": "stdout",
       "text": [
        "\r"
       ]
      },
      {
       "output_type": "stream",
       "stream": "stderr",
       "text": [
        "\r"
       ]
      }
     ],
     "prompt_number": 22
    },
    {
     "cell_type": "code",
     "collapsed": false,
     "input": [
      "Satisfaction(arr, 30, 6, 10)"
     ],
     "language": "python",
     "metadata": {},
     "outputs": [
      {
       "metadata": {},
       "output_type": "pyout",
       "prompt_number": 7,
       "text": [
        "0.42857142857142855"
       ]
      }
     ],
     "prompt_number": 7
    },
    {
     "cell_type": "code",
     "collapsed": false,
     "input": [
      "float(3)/7\n"
     ],
     "language": "python",
     "metadata": {},
     "outputs": [
      {
       "metadata": {},
       "output_type": "pyout",
       "prompt_number": 9,
       "text": [
        "0.42857142857142855"
       ]
      }
     ],
     "prompt_number": 9
    },
    {
     "cell_type": "code",
     "collapsed": false,
     "input": [
      "gahh()"
     ],
     "language": "python",
     "metadata": {},
     "outputs": [
      {
       "output_type": "stream",
       "stream": "stdout",
       "text": [
        "10\n"
       ]
      }
     ],
     "prompt_number": 12
    },
    {
     "cell_type": "code",
     "collapsed": false,
     "input": [
      "x = [2,2,2,2]\n",
      "if not x:\n",
      "    print \"x is empty\""
     ],
     "language": "python",
     "metadata": {},
     "outputs": [],
     "prompt_number": 6
    },
    {
     "cell_type": "code",
     "collapsed": false,
     "input": [
      "print x"
     ],
     "language": "python",
     "metadata": {},
     "outputs": [
      {
       "output_type": "stream",
       "stream": "stdout",
       "text": [
        "[2, 2, 2, 2]\n"
       ]
      }
     ],
     "prompt_number": 7
    },
    {
     "cell_type": "code",
     "collapsed": false,
     "input": [
      "x = 10\n",
      "def gah():\n",
      "    print x\n",
      "    x = 11\n",
      "gah()\n",
      "print x"
     ],
     "language": "python",
     "metadata": {},
     "outputs": [
      {
       "ename": "UnboundLocalError",
       "evalue": "local variable 'x' referenced before assignment",
       "output_type": "pyerr",
       "traceback": [
        "\u001b[0;31m---------------------------------------------------------------------------\u001b[0m\n\u001b[0;31mUnboundLocalError\u001b[0m                         Traceback (most recent call last)",
        "\u001b[0;32m<ipython-input-18-a0cb097cb75d>\u001b[0m in \u001b[0;36m<module>\u001b[0;34m()\u001b[0m\n\u001b[1;32m      3\u001b[0m     \u001b[0;32mprint\u001b[0m \u001b[0mx\u001b[0m\u001b[0;34m\u001b[0m\u001b[0m\n\u001b[1;32m      4\u001b[0m     \u001b[0mx\u001b[0m \u001b[0;34m=\u001b[0m \u001b[0;36m11\u001b[0m\u001b[0;34m\u001b[0m\u001b[0m\n\u001b[0;32m----> 5\u001b[0;31m \u001b[0mgah\u001b[0m\u001b[0;34m(\u001b[0m\u001b[0;34m)\u001b[0m\u001b[0;34m\u001b[0m\u001b[0m\n\u001b[0m\u001b[1;32m      6\u001b[0m \u001b[0;32mprint\u001b[0m \u001b[0mx\u001b[0m\u001b[0;34m\u001b[0m\u001b[0m\n",
        "\u001b[0;32m<ipython-input-18-a0cb097cb75d>\u001b[0m in \u001b[0;36mgah\u001b[0;34m()\u001b[0m\n\u001b[1;32m      1\u001b[0m \u001b[0mx\u001b[0m \u001b[0;34m=\u001b[0m \u001b[0;36m10\u001b[0m\u001b[0;34m\u001b[0m\u001b[0m\n\u001b[1;32m      2\u001b[0m \u001b[0;32mdef\u001b[0m \u001b[0mgah\u001b[0m\u001b[0;34m(\u001b[0m\u001b[0;34m)\u001b[0m\u001b[0;34m:\u001b[0m\u001b[0;34m\u001b[0m\u001b[0m\n\u001b[0;32m----> 3\u001b[0;31m     \u001b[0;32mprint\u001b[0m \u001b[0mx\u001b[0m\u001b[0;34m\u001b[0m\u001b[0m\n\u001b[0m\u001b[1;32m      4\u001b[0m     \u001b[0mx\u001b[0m \u001b[0;34m=\u001b[0m \u001b[0;36m11\u001b[0m\u001b[0;34m\u001b[0m\u001b[0m\n\u001b[1;32m      5\u001b[0m \u001b[0mgah\u001b[0m\u001b[0;34m(\u001b[0m\u001b[0;34m)\u001b[0m\u001b[0;34m\u001b[0m\u001b[0m\n",
        "\u001b[0;31mUnboundLocalError\u001b[0m: local variable 'x' referenced before assignment"
       ]
      }
     ],
     "prompt_number": 18
    },
    {
     "cell_type": "code",
     "collapsed": false,
     "input": [
      "x = np.ones(3)\n",
      "def gah():\n",
      "    print x\n",
      "    x[0] = 2\n",
      "gah()\n",
      "print x"
     ],
     "language": "python",
     "metadata": {},
     "outputs": [
      {
       "output_type": "stream",
       "stream": "stdout",
       "text": [
        "[ 1.  1.  1.]\n",
        "[ 2.  1.  1.]\n"
       ]
      }
     ],
     "prompt_number": 19
    },
    {
     "cell_type": "code",
     "collapsed": false,
     "input": [],
     "language": "python",
     "metadata": {},
     "outputs": []
    }
   ],
   "metadata": {}
  }
 ]
}
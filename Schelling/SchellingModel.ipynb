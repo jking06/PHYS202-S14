{
 "metadata": {
  "name": "",
  "signature": "sha256:959d5da3f9c4782c852ee2cfd0c097980e0903380ef2742da5d742adf900d0c2"
 },
 "nbformat": 3,
 "nbformat_minor": 0,
 "worksheets": [
  {
   "cells": [
    {
     "cell_type": "raw",
     "metadata": {},
     "source": [
      "def: class/object that is a BlockGrid and numpy NxN array\n",
      "\n",
      "functions or object methods to: \n",
      "   resize, randomize (with parameters), getStats [avg dissatisfaction, etc],\n",
      "\n",
      "Evolution function:\n",
      "   read in BG and array, find dissatisfied points (for parameter),\n",
      "   then use one of the MOVE algorithms\n",
      "   \n",
      "MOVE algorithms"
     ]
    },
    {
     "cell_type": "code",
     "collapsed": false,
     "input": [
      "from ipythonblocks import BlockGrid\n",
      "import numpy as np\n",
      "\n",
      "class SchelGrid(object):\n",
      "    def __init__(self, size=8, empty=.1, ratio=.5):\n",
      "        self.size = size\n",
      "        self.empty = empty\n",
      "        self.ratio = ratio\n",
      "        self.grid = BlockGrid(size, size, fill=(240,240,240))  # Just fill for now\n",
      "        arr = np.empty((size,size))  # Just empty for now\n",
      "    \n",
      "    def RandomizeGrid(self, empty, ratio):\n",
      "        # May eventually have multiple randomizing methods?\n",
      "        N = self.size ** 2\n",
      "        ran = np.random.randint(0, high=3, size=(self.size, self.size))\n",
      "        print ran\n",
      "    def getAvgSat(self, size):\n",
      "        # return avg of satisfaction of all elements in grid\n",
      "        pass\n",
      "    def showGrid(self):\n",
      "        self.grid.show()\n",
      "\n",
      "def OilWater(SG):\n",
      "    \"\"\" MOVE algorithm that prefers to move one color up, one down, \n",
      "    like vinigrette dressing \"\"\"\n",
      "    pass\n",
      "# More MOVE algorithms\n",
      "\n",
      "def Main(SG):\n",
      "    # Main loop: use BG and ndarray to find dissatisfied,\n",
      "    # use a chosen MOVE algorithm\n",
      "    # display new, and repeat\n",
      "    pass\n",
      "\n",
      "SG = SchelGrid(9, .2, .6)\n",
      "SG.showGrid()"
     ],
     "language": "python",
     "metadata": {},
     "outputs": [
      {
       "html": [
        "<style type=\"text/css\">table.blockgrid {border: none;} .blockgrid tr {border: none;} .blockgrid td {padding: 0px;} #blocks6887caaa-8bf9-4aea-8542-69fbb553b6cf td {border: 1px solid white;}</style><table id=\"blocks6887caaa-8bf9-4aea-8542-69fbb553b6cf\" class=\"blockgrid\"><tbody><tr><td title=\"Index: [0, 0]&#10;Color: (240, 240, 240)\" style=\"width: 20px; height: 20px;background-color: rgb(240, 240, 240);\"></td><td title=\"Index: [0, 1]&#10;Color: (240, 240, 240)\" style=\"width: 20px; height: 20px;background-color: rgb(240, 240, 240);\"></td><td title=\"Index: [0, 2]&#10;Color: (240, 240, 240)\" style=\"width: 20px; height: 20px;background-color: rgb(240, 240, 240);\"></td><td title=\"Index: [0, 3]&#10;Color: (240, 240, 240)\" style=\"width: 20px; height: 20px;background-color: rgb(240, 240, 240);\"></td><td title=\"Index: [0, 4]&#10;Color: (240, 240, 240)\" style=\"width: 20px; height: 20px;background-color: rgb(240, 240, 240);\"></td><td title=\"Index: [0, 5]&#10;Color: (240, 240, 240)\" style=\"width: 20px; height: 20px;background-color: rgb(240, 240, 240);\"></td><td title=\"Index: [0, 6]&#10;Color: (240, 240, 240)\" style=\"width: 20px; height: 20px;background-color: rgb(240, 240, 240);\"></td><td title=\"Index: [0, 7]&#10;Color: (240, 240, 240)\" style=\"width: 20px; height: 20px;background-color: rgb(240, 240, 240);\"></td><td title=\"Index: [0, 8]&#10;Color: (240, 240, 240)\" style=\"width: 20px; height: 20px;background-color: rgb(240, 240, 240);\"></td></tr><tr><td title=\"Index: [1, 0]&#10;Color: (240, 240, 240)\" style=\"width: 20px; height: 20px;background-color: rgb(240, 240, 240);\"></td><td title=\"Index: [1, 1]&#10;Color: (240, 240, 240)\" style=\"width: 20px; height: 20px;background-color: rgb(240, 240, 240);\"></td><td title=\"Index: [1, 2]&#10;Color: (240, 240, 240)\" style=\"width: 20px; height: 20px;background-color: rgb(240, 240, 240);\"></td><td title=\"Index: [1, 3]&#10;Color: (240, 240, 240)\" style=\"width: 20px; height: 20px;background-color: rgb(240, 240, 240);\"></td><td title=\"Index: [1, 4]&#10;Color: (240, 240, 240)\" style=\"width: 20px; height: 20px;background-color: rgb(240, 240, 240);\"></td><td title=\"Index: [1, 5]&#10;Color: (240, 240, 240)\" style=\"width: 20px; height: 20px;background-color: rgb(240, 240, 240);\"></td><td title=\"Index: [1, 6]&#10;Color: (240, 240, 240)\" style=\"width: 20px; height: 20px;background-color: rgb(240, 240, 240);\"></td><td title=\"Index: [1, 7]&#10;Color: (240, 240, 240)\" style=\"width: 20px; height: 20px;background-color: rgb(240, 240, 240);\"></td><td title=\"Index: [1, 8]&#10;Color: (240, 240, 240)\" style=\"width: 20px; height: 20px;background-color: rgb(240, 240, 240);\"></td></tr><tr><td title=\"Index: [2, 0]&#10;Color: (240, 240, 240)\" style=\"width: 20px; height: 20px;background-color: rgb(240, 240, 240);\"></td><td title=\"Index: [2, 1]&#10;Color: (240, 240, 240)\" style=\"width: 20px; height: 20px;background-color: rgb(240, 240, 240);\"></td><td title=\"Index: [2, 2]&#10;Color: (240, 240, 240)\" style=\"width: 20px; height: 20px;background-color: rgb(240, 240, 240);\"></td><td title=\"Index: [2, 3]&#10;Color: (240, 240, 240)\" style=\"width: 20px; height: 20px;background-color: rgb(240, 240, 240);\"></td><td title=\"Index: [2, 4]&#10;Color: (240, 240, 240)\" style=\"width: 20px; height: 20px;background-color: rgb(240, 240, 240);\"></td><td title=\"Index: [2, 5]&#10;Color: (240, 240, 240)\" style=\"width: 20px; height: 20px;background-color: rgb(240, 240, 240);\"></td><td title=\"Index: [2, 6]&#10;Color: (240, 240, 240)\" style=\"width: 20px; height: 20px;background-color: rgb(240, 240, 240);\"></td><td title=\"Index: [2, 7]&#10;Color: (240, 240, 240)\" style=\"width: 20px; height: 20px;background-color: rgb(240, 240, 240);\"></td><td title=\"Index: [2, 8]&#10;Color: (240, 240, 240)\" style=\"width: 20px; height: 20px;background-color: rgb(240, 240, 240);\"></td></tr><tr><td title=\"Index: [3, 0]&#10;Color: (240, 240, 240)\" style=\"width: 20px; height: 20px;background-color: rgb(240, 240, 240);\"></td><td title=\"Index: [3, 1]&#10;Color: (240, 240, 240)\" style=\"width: 20px; height: 20px;background-color: rgb(240, 240, 240);\"></td><td title=\"Index: [3, 2]&#10;Color: (240, 240, 240)\" style=\"width: 20px; height: 20px;background-color: rgb(240, 240, 240);\"></td><td title=\"Index: [3, 3]&#10;Color: (240, 240, 240)\" style=\"width: 20px; height: 20px;background-color: rgb(240, 240, 240);\"></td><td title=\"Index: [3, 4]&#10;Color: (240, 240, 240)\" style=\"width: 20px; height: 20px;background-color: rgb(240, 240, 240);\"></td><td title=\"Index: [3, 5]&#10;Color: (240, 240, 240)\" style=\"width: 20px; height: 20px;background-color: rgb(240, 240, 240);\"></td><td title=\"Index: [3, 6]&#10;Color: (240, 240, 240)\" style=\"width: 20px; height: 20px;background-color: rgb(240, 240, 240);\"></td><td title=\"Index: [3, 7]&#10;Color: (240, 240, 240)\" style=\"width: 20px; height: 20px;background-color: rgb(240, 240, 240);\"></td><td title=\"Index: [3, 8]&#10;Color: (240, 240, 240)\" style=\"width: 20px; height: 20px;background-color: rgb(240, 240, 240);\"></td></tr><tr><td title=\"Index: [4, 0]&#10;Color: (240, 240, 240)\" style=\"width: 20px; height: 20px;background-color: rgb(240, 240, 240);\"></td><td title=\"Index: [4, 1]&#10;Color: (240, 240, 240)\" style=\"width: 20px; height: 20px;background-color: rgb(240, 240, 240);\"></td><td title=\"Index: [4, 2]&#10;Color: (240, 240, 240)\" style=\"width: 20px; height: 20px;background-color: rgb(240, 240, 240);\"></td><td title=\"Index: [4, 3]&#10;Color: (240, 240, 240)\" style=\"width: 20px; height: 20px;background-color: rgb(240, 240, 240);\"></td><td title=\"Index: [4, 4]&#10;Color: (240, 240, 240)\" style=\"width: 20px; height: 20px;background-color: rgb(240, 240, 240);\"></td><td title=\"Index: [4, 5]&#10;Color: (240, 240, 240)\" style=\"width: 20px; height: 20px;background-color: rgb(240, 240, 240);\"></td><td title=\"Index: [4, 6]&#10;Color: (240, 240, 240)\" style=\"width: 20px; height: 20px;background-color: rgb(240, 240, 240);\"></td><td title=\"Index: [4, 7]&#10;Color: (240, 240, 240)\" style=\"width: 20px; height: 20px;background-color: rgb(240, 240, 240);\"></td><td title=\"Index: [4, 8]&#10;Color: (240, 240, 240)\" style=\"width: 20px; height: 20px;background-color: rgb(240, 240, 240);\"></td></tr><tr><td title=\"Index: [5, 0]&#10;Color: (240, 240, 240)\" style=\"width: 20px; height: 20px;background-color: rgb(240, 240, 240);\"></td><td title=\"Index: [5, 1]&#10;Color: (240, 240, 240)\" style=\"width: 20px; height: 20px;background-color: rgb(240, 240, 240);\"></td><td title=\"Index: [5, 2]&#10;Color: (240, 240, 240)\" style=\"width: 20px; height: 20px;background-color: rgb(240, 240, 240);\"></td><td title=\"Index: [5, 3]&#10;Color: (240, 240, 240)\" style=\"width: 20px; height: 20px;background-color: rgb(240, 240, 240);\"></td><td title=\"Index: [5, 4]&#10;Color: (240, 240, 240)\" style=\"width: 20px; height: 20px;background-color: rgb(240, 240, 240);\"></td><td title=\"Index: [5, 5]&#10;Color: (240, 240, 240)\" style=\"width: 20px; height: 20px;background-color: rgb(240, 240, 240);\"></td><td title=\"Index: [5, 6]&#10;Color: (240, 240, 240)\" style=\"width: 20px; height: 20px;background-color: rgb(240, 240, 240);\"></td><td title=\"Index: [5, 7]&#10;Color: (240, 240, 240)\" style=\"width: 20px; height: 20px;background-color: rgb(240, 240, 240);\"></td><td title=\"Index: [5, 8]&#10;Color: (240, 240, 240)\" style=\"width: 20px; height: 20px;background-color: rgb(240, 240, 240);\"></td></tr><tr><td title=\"Index: [6, 0]&#10;Color: (240, 240, 240)\" style=\"width: 20px; height: 20px;background-color: rgb(240, 240, 240);\"></td><td title=\"Index: [6, 1]&#10;Color: (240, 240, 240)\" style=\"width: 20px; height: 20px;background-color: rgb(240, 240, 240);\"></td><td title=\"Index: [6, 2]&#10;Color: (240, 240, 240)\" style=\"width: 20px; height: 20px;background-color: rgb(240, 240, 240);\"></td><td title=\"Index: [6, 3]&#10;Color: (240, 240, 240)\" style=\"width: 20px; height: 20px;background-color: rgb(240, 240, 240);\"></td><td title=\"Index: [6, 4]&#10;Color: (240, 240, 240)\" style=\"width: 20px; height: 20px;background-color: rgb(240, 240, 240);\"></td><td title=\"Index: [6, 5]&#10;Color: (240, 240, 240)\" style=\"width: 20px; height: 20px;background-color: rgb(240, 240, 240);\"></td><td title=\"Index: [6, 6]&#10;Color: (240, 240, 240)\" style=\"width: 20px; height: 20px;background-color: rgb(240, 240, 240);\"></td><td title=\"Index: [6, 7]&#10;Color: (240, 240, 240)\" style=\"width: 20px; height: 20px;background-color: rgb(240, 240, 240);\"></td><td title=\"Index: [6, 8]&#10;Color: (240, 240, 240)\" style=\"width: 20px; height: 20px;background-color: rgb(240, 240, 240);\"></td></tr><tr><td title=\"Index: [7, 0]&#10;Color: (240, 240, 240)\" style=\"width: 20px; height: 20px;background-color: rgb(240, 240, 240);\"></td><td title=\"Index: [7, 1]&#10;Color: (240, 240, 240)\" style=\"width: 20px; height: 20px;background-color: rgb(240, 240, 240);\"></td><td title=\"Index: [7, 2]&#10;Color: (240, 240, 240)\" style=\"width: 20px; height: 20px;background-color: rgb(240, 240, 240);\"></td><td title=\"Index: [7, 3]&#10;Color: (240, 240, 240)\" style=\"width: 20px; height: 20px;background-color: rgb(240, 240, 240);\"></td><td title=\"Index: [7, 4]&#10;Color: (240, 240, 240)\" style=\"width: 20px; height: 20px;background-color: rgb(240, 240, 240);\"></td><td title=\"Index: [7, 5]&#10;Color: (240, 240, 240)\" style=\"width: 20px; height: 20px;background-color: rgb(240, 240, 240);\"></td><td title=\"Index: [7, 6]&#10;Color: (240, 240, 240)\" style=\"width: 20px; height: 20px;background-color: rgb(240, 240, 240);\"></td><td title=\"Index: [7, 7]&#10;Color: (240, 240, 240)\" style=\"width: 20px; height: 20px;background-color: rgb(240, 240, 240);\"></td><td title=\"Index: [7, 8]&#10;Color: (240, 240, 240)\" style=\"width: 20px; height: 20px;background-color: rgb(240, 240, 240);\"></td></tr><tr><td title=\"Index: [8, 0]&#10;Color: (240, 240, 240)\" style=\"width: 20px; height: 20px;background-color: rgb(240, 240, 240);\"></td><td title=\"Index: [8, 1]&#10;Color: (240, 240, 240)\" style=\"width: 20px; height: 20px;background-color: rgb(240, 240, 240);\"></td><td title=\"Index: [8, 2]&#10;Color: (240, 240, 240)\" style=\"width: 20px; height: 20px;background-color: rgb(240, 240, 240);\"></td><td title=\"Index: [8, 3]&#10;Color: (240, 240, 240)\" style=\"width: 20px; height: 20px;background-color: rgb(240, 240, 240);\"></td><td title=\"Index: [8, 4]&#10;Color: (240, 240, 240)\" style=\"width: 20px; height: 20px;background-color: rgb(240, 240, 240);\"></td><td title=\"Index: [8, 5]&#10;Color: (240, 240, 240)\" style=\"width: 20px; height: 20px;background-color: rgb(240, 240, 240);\"></td><td title=\"Index: [8, 6]&#10;Color: (240, 240, 240)\" style=\"width: 20px; height: 20px;background-color: rgb(240, 240, 240);\"></td><td title=\"Index: [8, 7]&#10;Color: (240, 240, 240)\" style=\"width: 20px; height: 20px;background-color: rgb(240, 240, 240);\"></td><td title=\"Index: [8, 8]&#10;Color: (240, 240, 240)\" style=\"width: 20px; height: 20px;background-color: rgb(240, 240, 240);\"></td></tr></tbody></table>"
       ],
       "metadata": {},
       "output_type": "display_data",
       "text": [
        "<IPython.core.display.HTML at 0x10279bb50>"
       ]
      }
     ],
     "prompt_number": 9
    },
    {
     "cell_type": "code",
     "collapsed": false,
     "input": [
      "SG.RandomizeGrid(.1, .5)"
     ],
     "language": "python",
     "metadata": {},
     "outputs": [
      {
       "output_type": "stream",
       "stream": "stdout",
       "text": [
        "[[2 0 0 2 1 0 0 2 1]\n",
        " [2 1 2 1 1 0 1 0 2]\n",
        " [2 0 2 1 1 2 1 0 0]\n",
        " [2 1 1 1 1 0 2 2 0]\n",
        " [0 2 0 0 0 1 0 1 2]\n",
        " [0 1 2 2 2 2 1 0 2]\n",
        " [2 2 2 2 0 1 1 0 1]\n",
        " [0 1 0 1 1 2 0 2 0]\n",
        " [1 0 0 0 1 1 1 1 0]]\n"
       ]
      }
     ],
     "prompt_number": 10
    },
    {
     "cell_type": "code",
     "collapsed": false,
     "input": [],
     "language": "python",
     "metadata": {},
     "outputs": []
    }
   ],
   "metadata": {}
  }
 ]
}
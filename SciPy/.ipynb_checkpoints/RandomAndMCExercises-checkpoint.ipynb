{
 "metadata": {
  "name": "",
  "signature": "sha256:24a8710c52251c2a8310014aeb55c84d1ad92858d326d742d4b9445353cb0182"
 },
 "nbformat": 3,
 "nbformat_minor": 0,
 "worksheets": [
  {
   "cells": [
    {
     "cell_type": "heading",
     "level": 1,
     "metadata": {},
     "source": [
      "Random Numbers, Monte Carlo Sampling and Simulation Exercises"
     ]
    },
    {
     "cell_type": "code",
     "collapsed": false,
     "input": [
      "%pylab inline\n",
      "import numpy as np\n",
      "import matplotlib.pyplot as plt"
     ],
     "language": "python",
     "metadata": {},
     "outputs": [
      {
       "output_type": "stream",
       "stream": "stdout",
       "text": [
        "Populating the interactive namespace from numpy and matplotlib\n"
       ]
      }
     ],
     "prompt_number": 1
    },
    {
     "cell_type": "heading",
     "level": 3,
     "metadata": {},
     "source": [
      "Question 1"
     ]
    },
    {
     "cell_type": "markdown",
     "metadata": {},
     "source": [
      "The Weibull distribution, with parameters $\\alpha > 0$ and $\\beta > 0$ is described by the density function\n",
      "\n",
      "$f(x) = \\begin{cases}\n",
      "\\alpha\\beta^{-\\alpha}x^{\\alpha-1}e^{-(x/\\beta)^\\alpha} & x > 0 \\\\\n",
      "0 & otherwise\n",
      "\\end{cases}$"
     ]
    },
    {
     "cell_type": "markdown",
     "metadata": {},
     "source": [
      "**(a)** Solve for the CDF of the Weibull distribution analytically, using\n",
      "\n",
      "$F(x) = \\int_{-\\infty}^x f(t)dt$"
     ]
    },
    {
     "cell_type": "markdown",
     "metadata": {},
     "source": [
      "$F(x) = \\begin{cases}\n",
      "1 - e^{-(x/\\beta)^\\alpha} & x \\geq 0 \\\\\n",
      "0 & x < 0\n",
      "\\end{cases}$"
     ]
    },
    {
     "cell_type": "markdown",
     "metadata": {},
     "source": [
      "**(b)** Find the inverse of the CDF $F^{\u22121}(x)$ analytically."
     ]
    },
    {
     "cell_type": "markdown",
     "metadata": {},
     "source": [
      "$F^{-1}(x) = \\beta(-ln(1-x))^{1/a}$"
     ]
    },
    {
     "cell_type": "markdown",
     "metadata": {},
     "source": [
      "**(c)** Write a program to generate 10,000 samples from the Weibull distribution and plot the true distribution, the CDF and the sampled distribution as a histogram, all on the same graph. Let \u03b1 = 1.5, \u03b2 = 6.\n",
      "\n",
      "Note: Do not use the built-in Weibull function from numpy.random."
     ]
    },
    {
     "cell_type": "code",
     "collapsed": false,
     "input": [
      "alph = 1.5\n",
      "beta = 6.\n",
      "N = 10000\n",
      "x = numpy.random.random_sample(N)\n",
      "\n",
      "weib = lambda x: alph*beta**(-alph) * x**(alph-1) * np.exp(-(x/beta)**alph)\n",
      "cdf = lambda x: 1 - np.exp(-(x/beta)**alph)\n",
      "Finv = lambda x: beta*(-np.log(1-x))**(1/alph)\n",
      "xsamples = Finv(x)\n",
      "\n",
      "plt.plot(x,weib(x), label='Weibull Distribution',lw=2,color='red')\n",
      "plt.plot(x,cdf(x), label='CDF',lw=2,color='green')\n",
      "plt.hist(xsamples, 50, normed=True, label=\"Sampled distribution\")\n",
      "plt.show()"
     ],
     "language": "python",
     "metadata": {},
     "outputs": [
      {
       "metadata": {},
       "output_type": "display_data",
       "png": "[encoded data removed]",
       "text": [
        "<matplotlib.figure.Figure at 0x10b43d910>"
       ]
      }
     ],
     "prompt_number": 13
    },
    {
     "cell_type": "code",
     "collapsed": false,
     "input": [],
     "language": "python",
     "metadata": {},
     "outputs": []
    }
   ],
   "metadata": {}
  }
 ]
}
{
 "metadata": {
  "name": "",
  "signature": "sha256:5a7ed1d6ade8e2b03edee1558b0c2a75fb56d9a2aeffaef819656789f821814f"
 },
 "nbformat": 3,
 "nbformat_minor": 0,
 "worksheets": [
  {
   "cells": [
    {
     "cell_type": "heading",
     "level": 1,
     "metadata": {},
     "source": [
      "Monte Carlo Integration Exercises"
     ]
    },
    {
     "cell_type": "code",
     "collapsed": false,
     "input": [
      "%pylab inline\n",
      "import numpy as np\n",
      "import matplotlib.pyplot as plt"
     ],
     "language": "python",
     "metadata": {},
     "outputs": [
      {
       "output_type": "stream",
       "stream": "stdout",
       "text": [
        "Populating the interactive namespace from numpy and matplotlib\n"
       ]
      }
     ],
     "prompt_number": 1
    },
    {
     "cell_type": "heading",
     "level": 3,
     "metadata": {},
     "source": [
      "Question 1"
     ]
    },
    {
     "cell_type": "markdown",
     "metadata": {},
     "source": [
      "Let\u2019s compute the electric potential from a plane of charge as shown in the figure using Monte Carlo integration.\n",
      "\n",
      "The integral comes from summing all the potentials from the chunks of \u201cpoint\u201d charges. Just as we summed two charges for a dipole, now we\u2019ll sum many charges. The important part is to understand how dQ, modeled as a point charge, is related to \u03c3dA, where \u03c3 is the surface charge density = charge/area (\u03c3=Q/A ) Review your notes from PHYS 133 if you need a refresher.\n",
      "\n",
      "We want to use our previously defined pointPotential() function from Electrostatics.py, so we have to import it.\n"
     ]
    },
    {
     "cell_type": "code",
     "collapsed": false,
     "input": [
      "#import our point potential function\n",
      "from Electrostatics import *"
     ],
     "language": "python",
     "metadata": {},
     "outputs": [],
     "prompt_number": 2
    },
    {
     "cell_type": "markdown",
     "metadata": {},
     "source": [
      "**(a)** Use the sample mean method to compute the potential at point P(2,3) due to the disk of charge for different numbers of samples $N=(10^1,10^2,10^3,10^4,10^5,10^6)$. Report the value and its statistical uncertainty for each sample size. How does the result depend on N?"
     ]
    },
    {
     "cell_type": "code",
     "collapsed": false,
     "input": [
      "ymax = 2\n",
      "ymin = 0\n",
      "xmax = 1\n",
      "xmin = -1\n",
      "\n",
      "for N in (10,100,1000,10000,100000,1000000):\n",
      "    randx = xmin + (xmax-xmin)*np.random.random_sample(N)\n",
      "    randy = ymin + (ymax-ymin)*np.random.random_sample(N)\n",
      "    q = (1e-6) * (xmax-xmin)*(ymax-ymin) / float(N)\n",
      "    I = (ymax-ymin)*(xmax-xmin)*pointPotential(2,3,q,randx,randy).mean()\n",
      "    unc = (ymax-ymin)*(xmax-xmin)*np.sqrt((pointPotential(2,3,q,randx,randy)**2).mean() - (pointPotential(2,3,q,randx,randy)).mean()**2)\n",
      "    \n",
      "    print \"Integral=%.5f, +/- %.6f, N = %d, q=%.11f\"%(I,unc,N, q)"
     ],
     "language": "python",
     "metadata": {},
     "outputs": [
      {
       "output_type": "stream",
       "stream": "stdout",
       "text": [
        "Integral=5632.40878, +/- 1162.843200, N = 10, q=0.00000040000\n",
        "Integral=533.00719, +/- 119.431227, N = 100, q=0.00000004000\n",
        "Integral=51.84558, +/- 11.866330, N = 1000, q=0.00000000400\n",
        "Integral=5.19897, +/- 1.190868, N = 10000, q=0.00000000040\n",
        "Integral=0.52058, +/- 0.118416, N = 100000, q=0.00000000004\n",
        "Integral=0.05214, +/- 0.011911, N = 1000000, q=0.00000000000"
       ]
      },
      {
       "output_type": "stream",
       "stream": "stdout",
       "text": [
        "\n"
       ]
      }
     ],
     "prompt_number": 13
    },
    {
     "cell_type": "markdown",
     "metadata": {},
     "source": [
      "**(b)** Now use the same method to compute the electric potential, V, at point P(2,3), from a disk centered on the origin with radius, R=1.2 cm, and charge density, $\u03c3 = 2 nC/m^2$ .\n",
      "\n",
      "The integral is $V = \\int_0^{2\\pi}\\int_0^{0.012} \\frac{K\\sigma}{|r-r_0|}rd\\theta dr$"
     ]
    },
    {
     "cell_type": "code",
     "collapsed": false,
     "input": [
      "tmax = 2*np.pi\n",
      "tmin = 0\n",
      "rmax = 0.012\n",
      "rmin = 0\n",
      "\n",
      "for N in (10,100,1000,10000,100000,1000000):\n",
      "    randt = tmin + (tmax-tmin)*np.random.random_sample(N)\n",
      "    randr = rmin + (rmax-rmin)*np.random.random_sample(N)\n",
      "    q = (2e-9) * np.pi*rmax**2 / float(N)\n",
      "    I = np.pi*rmax**2 * pointPotential(2,3,q,randt,randr).mean()\n",
      "    unc = np.pi*rmax**2 * np.sqrt((pointPotential(2,3,q,randt,randr)**2).mean() - (pointPotential(2,3,q,randt,randr)).mean()**2)\n",
      "    # NOT RIGHT. PointPotential assumes x and y values, not r/theta\n",
      "    print \"Integral=%.5f, +/- %.6f, N = %d\"%(I,unc,N)"
     ],
     "language": "python",
     "metadata": {},
     "outputs": [
      {
       "output_type": "stream",
       "stream": "stdout",
       "text": [
        "Integral=0.00000, +/- 0.000000, N = 10\n",
        "Integral=0.00000, +/- 0.000000, N = 100\n",
        "Integral=0.00000, +/- 0.000000, N = 1000\n",
        "Integral=0.00000, +/- 0.000000, N = 10000\n",
        "Integral=0.00000, +/- 0.000000, N = 100000\n",
        "Integral=0.00000, +/- 0.000000, N = 1000000"
       ]
      },
      {
       "output_type": "stream",
       "stream": "stdout",
       "text": [
        "\n"
       ]
      }
     ],
     "prompt_number": 15
    },
    {
     "cell_type": "heading",
     "level": 3,
     "metadata": {},
     "source": [
      "Question 2"
     ]
    },
    {
     "cell_type": "markdown",
     "metadata": {},
     "source": [
      "Use the sample mean method to compute the volume of a sphere with radius 1 using spherical coordinates:\n",
      "\n",
      "$V=\\int_0^1 \\int_0^{\\pi} \\int_0^{2\\pi} r^2 sin(\\theta)drd\\theta d\\phi$\n",
      "\n",
      "for $N=(10^1,10^2,10^3,10^4,10^5,10^6)$. Report the value and statistical uncertainty for each sample size. How does the result depend on N?\n"
     ]
    },
    {
     "cell_type": "code",
     "collapsed": false,
     "input": [],
     "language": "python",
     "metadata": {},
     "outputs": []
    }
   ],
   "metadata": {}
  }
 ]
}
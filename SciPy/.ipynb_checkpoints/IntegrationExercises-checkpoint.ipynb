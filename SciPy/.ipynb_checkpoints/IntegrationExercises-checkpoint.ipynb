{
 "metadata": {
  "name": "",
  "signature": "sha256:11129eb4b9b7dcf8a6900e69178ff965c8e63e375653f9181eb0d7fdadd261af"
 },
 "nbformat": 3,
 "nbformat_minor": 0,
 "worksheets": [
  {
   "cells": [
    {
     "cell_type": "heading",
     "level": 1,
     "metadata": {},
     "source": [
      "Integration Exercises"
     ]
    },
    {
     "cell_type": "code",
     "collapsed": false,
     "input": [
      "%pylab inline\n",
      "import numpy as np\n",
      "import matplotlib.pyplot as plt"
     ],
     "language": "python",
     "metadata": {},
     "outputs": [
      {
       "output_type": "stream",
       "stream": "stdout",
       "text": [
        "Populating the interactive namespace from numpy and matplotlib\n"
       ]
      }
     ],
     "prompt_number": 1
    },
    {
     "cell_type": "heading",
     "level": 3,
     "metadata": {},
     "source": [
      "Question 1"
     ]
    },
    {
     "cell_type": "markdown",
     "metadata": {},
     "source": [
      "(a) Write two functions trapz(func,x) and simps(func,x) to compute the integral of the function func over the variable x using the trapezoidal rule and Simpson's rule to a file called Integrators.py. Do not use the scipy.integrate built-in functions. Include docstrings with each function that describe what they do. Then import the module and use the functions to answer the following questions."
     ]
    },
    {
     "cell_type": "code",
     "collapsed": false,
     "input": [
      "%%file Integrators.py\n",
      "import numpy as np\n",
      "def trapz(func, a=0.0, b=1.0, N=10):\n",
      "    \"\"\" Uses the Trapezoidal Rule to approx integral of func over variable x from a to b with N steps. Defaults to a=0,b=1,n=10 \"\"\"\n",
      "    a = float(a)\n",
      "    b = float(b)\n",
      "    h = (b - a)/N\n",
      "    \n",
      "    k = np.arange(1, N)\n",
      "    return h*(0.5*func(a) + 0.5*func(b) + func(a+k*h).sum())\n",
      "    \n",
      "def simps(func, a=0, b=1, N=10):\n",
      "    \"\"\" Uses the Simpson's Rule to approx integral of func over variable x from a to b with N steps. Defaults to a=0,b=1,n=10 \"\"\"\n",
      "    a = float(a)\n",
      "    b = float(b)\n",
      "    h = (b - a)/N\n",
      "    \n",
      "    k1 = np.arange(1, N/2+1)\n",
      "    k2 = np.arange(1, N/2)\n",
      "    return (1./3.)*h*(func(a) + func(b) + 4.*func(a+(2*k1-1)*h).sum() + 2.*func(a+2*k2*h).sum())"
     ],
     "language": "python",
     "metadata": {},
     "outputs": [
      {
       "output_type": "stream",
       "stream": "stdout",
       "text": [
        "Overwriting Integrators.py\n"
       ]
      }
     ],
     "prompt_number": 2
    },
    {
     "cell_type": "code",
     "collapsed": false,
     "input": [
      "import Integrators as myint"
     ],
     "language": "python",
     "metadata": {},
     "outputs": [],
     "prompt_number": 3
    },
    {
     "cell_type": "markdown",
     "metadata": {},
     "source": [
      "(b) Use your trapz and simps functions from part (a) to calculate the integral of $x^4\u22122x+1$ from x = 0 to x = 2 with N = 10, N = 100, and N = 1000. Then compare your result to the known correct value of 4.4. What is the percent error in each case?"
     ]
    },
    {
     "cell_type": "code",
     "collapsed": false,
     "input": [
      "func = lambda x: x**4 - 2*x + 1"
     ],
     "language": "python",
     "metadata": {},
     "outputs": [],
     "prompt_number": 4
    },
    {
     "cell_type": "code",
     "collapsed": false,
     "input": [
      "print \"--- Trapezoid ---\"\n",
      "print myint.trapz(func, 0, 2, 10)\n",
      "print myint.trapz(func, 0, 2, 100)\n",
      "print myint.trapz(func, 0, 2, 1000)\n",
      "print \"--- Simpson ---\"\n",
      "print myint.simps(func, 0, 2, 10)\n",
      "print myint.simps(func, 0, 2, 100)\n",
      "print myint.simps(func, 0, 2, 1000)"
     ],
     "language": "python",
     "metadata": {},
     "outputs": [
      {
       "output_type": "stream",
       "stream": "stdout",
       "text": [
        "--- Trapezoid ---\n",
        "4.50656\n",
        "4.401066656\n",
        "4.40001066667\n",
        "--- Simpson ---\n",
        "4.40042666667\n",
        "4.40000004267\n",
        "4.4\n"
       ]
      }
     ],
     "prompt_number": 5
    },
    {
     "cell_type": "code",
     "collapsed": false,
     "input": [
      "print \"--- Trapezoid Error as Percent ---\"\n",
      "print abs(myint.trapz(func, 0, 2, 10) - 4.4) / 4.4 * 100\n",
      "print abs(myint.trapz(func, 0, 2, 100) - 4.4) / 4.4 * 100\n",
      "print abs(myint.trapz(func, 0, 2, 1000) - 4.4) / 4.4 * 100\n",
      "print \"--- Simpson Error as Percent ---\"\n",
      "print abs(myint.simps(func, 0, 2, 10) - 4.4) / 4.4 * 100\n",
      "print abs(myint.simps(func, 0, 2, 100) - 4.4) / 4.4 * 100\n",
      "print abs(myint.simps(func, 0, 2, 1000) - 4.4) / 4.4 * 100"
     ],
     "language": "python",
     "metadata": {},
     "outputs": [
      {
       "output_type": "stream",
       "stream": "stdout",
       "text": [
        "--- Trapezoid Error as Percent ---\n",
        "2.42181818182\n",
        "0.0242421818182\n",
        "0.000242424218175\n",
        "--- Simpson Error as Percent ---\n",
        "0.00969696969697\n",
        "9.69696969187e-07\n",
        "9.69729347327e-11\n"
       ]
      }
     ],
     "prompt_number": 7
    },
    {
     "cell_type": "heading",
     "level": 3,
     "metadata": {},
     "source": [
      "Question 2"
     ]
    },
    {
     "cell_type": "markdown",
     "metadata": {},
     "source": [
      "Consider the integral\n",
      "\n",
      "$E(x)=\\int_0^x e^{-t^2}dt$\n",
      "\n",
      "This is the error function, commonly seen in probability and statistics. There is no known way to perform this particular integral analytically, although the integrand can be expanded in a Taylor series and terms computed to arbitrary order. For most applications, numerical approaches are the only way forward.\n",
      "\n",
      "(a) Use scipy.integrate.cumtrapz to calculate E(x) for values of x from 0 to 3 in steps of 0.1. Print the result.\n"
     ]
    },
    {
     "cell_type": "code",
     "collapsed": false,
     "input": [
      "from scipy.integrate import cumtrapz\n",
      "x = np.linspace(0, 3, 100)\n",
      "y = np.exp(-x ** 2)"
     ],
     "language": "python",
     "metadata": {},
     "outputs": [],
     "prompt_number": 23
    },
    {
     "cell_type": "code",
     "collapsed": false,
     "input": [
      "print cumtrapz(y)\n",
      "print cumtrapz(y)[-1]"
     ],
     "language": "python",
     "metadata": {},
     "outputs": [
      {
       "output_type": "stream",
       "stream": "stdout",
       "text": [
        "[  0.99954107   1.99724897   2.99130059   3.9798929    4.96125274\n",
        "   5.93364637   6.8953886    7.84485157   8.78047297   9.70076363\n",
        "  10.60431461  11.48980338  12.35599948  13.20176924  14.02607978\n",
        "  14.8280021   15.6067135   16.36149893  17.09175178  17.79697366\n",
        "  18.47677348  19.13086587  19.7590687   20.36130019  20.93757521\n",
        "  21.48800114  22.01277325  22.51216961  22.98654566  23.43632852\n",
        "  23.86201103  24.26414568  24.64333835  25.00024212  25.33555103\n",
        "  25.64999396  25.94432857  26.21933547  26.47581257  26.71456972\n",
        "  26.93642356  27.1421927   27.33269329  27.50873483  27.67111641\n",
        "  27.82062327  27.95802375  28.08406658  28.19947853  28.30496244\n",
        "  28.40119552  28.48882805  28.56848231  28.64075189  28.70620115\n",
        "  28.76536504  28.81874909  28.86682959  28.91005403  28.94884158\n",
        "  28.98358384  29.01464565  29.04236596  29.06705886  29.08901465\n",
        "  29.10850092  29.12576371  29.14102869  29.1545023   29.16637296\n",
        "  29.17681218  29.18597574  29.19400478  29.20102685  29.20715697\n",
        "  29.21249864  29.21714472  29.22117839  29.22467393  29.2276976\n",
        "  29.23030828  29.23255826  29.23449381  29.23615582  29.23758033\n",
        "  29.23879905  29.23983978  29.24072689  29.24148168  29.24212269\n",
        "  29.24266609  29.24312589  29.24351424  29.24384164  29.24411715\n",
        "  29.24434857  29.2445426   29.24470498  29.24484062]\n",
        "29.2448406236\n"
       ]
      }
     ],
     "prompt_number": 29
    },
    {
     "cell_type": "markdown",
     "metadata": {},
     "source": [
      "(b) Plot the integrand as a function of t and E(x) as a function of x (both ranging from 0 to 3) on the same graph."
     ]
    },
    {
     "cell_type": "code",
     "collapsed": false,
     "input": [
      "plt.figure(figsize=(8,6), dpi=80)\n",
      "plt.plot(x, y, label=\"Integrand, func of t\")\n",
      "plt.plot(x[1:], cumtrapz(y), label=\"Error, integral 0 to x\")\n",
      "plt.legend(loc='right')\n",
      "plt.show()"
     ],
     "language": "python",
     "metadata": {},
     "outputs": [
      {
       "metadata": {},
       "output_type": "display_data",
       "png": "[encoded data removed]",
       "text": [
        "<matplotlib.figure.Figure at 0x106b3ae10>"
       ]
      }
     ],
     "prompt_number": 35
    },
    {
     "cell_type": "heading",
     "level": 3,
     "metadata": {},
     "source": [
      "Question 3"
     ]
    },
    {
     "cell_type": "markdown",
     "metadata": {},
     "source": [
      "Consider a particle in a one-dimensional box of width L. The probability of finding the particle between a and b is given by\n",
      "\n",
      "$P(a,b)=\\int_a^b |\u03c8(x)|^2dx$\n",
      "\n",
      "where\n",
      "\n",
      "$\u03c8(x)=\\sqrt{\\frac{2}{L}}sin(\\frac{n\u03c0x}{L})$\n",
      "\n",
      "is the wavefunction.\n",
      "\n",
      "(a) What is the probability of finding the particle between L/3 and L/2 for the ground state (n = 1) and for the first excited state (n = 2)? Let L = 1. Perform the integral using both scipy.integrate.trapz and scipy.integrate.quad with an accuracy of 6 sig figs. How many slices did you need to use for scipy.integrate.trapz?\n"
     ]
    },
    {
     "cell_type": "code",
     "collapsed": false,
     "input": [
      "from scipy.integrate import trapz, quad\n",
      "def wavefunc(x, L=1, n=1):\n",
      "    \"\"\" Wavefunction of particle in box width L in state n \"\"\"\n",
      "    return np.sqrt(2. / float(L))*np.sin((n*np.pi*x)/float(L))\n",
      "\n",
      "x = np.linspace(1./3., 1./2., 300)\n",
      "y1 = wavefunc(x, 1, 1)\n",
      "y2 = wavefunc(x, 1, 2.)\n",
      "print \"Trapz method. Around Slices N=300, matches Quad to 6 digits\"\n",
      "print \"Trapz n=1: \", trapz(y1, x)\n",
      "print \"Trapz n=2: \", trapz(y2, x)\n",
      "print \"Quads technique with error.\"\n",
      "print \"Quad n=1: \", quad(wavefunc, 1./3., 1./2., args=(1,1))\n",
      "print \"Quad n=2: \", quad(wavefunc, 1./3., 1./2., args=(1,2))"
     ],
     "language": "python",
     "metadata": {},
     "outputs": [
      {
       "output_type": "stream",
       "stream": "stdout",
       "text": [
        "Trapz method. Around Slices N=300, matches Quad to 6 digits\n",
        "Trapz n=1:  0.225079021521\n",
        "Trapz n=2:  0.112539424482\n",
        "Quads technique with error.\n",
        "Quad n=1:  (0.22507907903927654, 2.498879759108303e-15)\n",
        "Quad n=2:  (0.11253953951963833, 1.249439879554152e-15)\n"
       ]
      }
     ],
     "prompt_number": 58
    },
    {
     "cell_type": "markdown",
     "metadata": {},
     "source": [
      "(b) Make a plot of $|\u03c8(x)|^2$ vs. x for the first two excited states with L=1."
     ]
    },
    {
     "cell_type": "code",
     "collapsed": false,
     "input": [
      "help(quad)"
     ],
     "language": "python",
     "metadata": {},
     "outputs": [
      {
       "output_type": "stream",
       "stream": "stdout",
       "text": [
        "Help on function quad in module scipy.integrate.quadpack:\n",
        "\n",
        "quad(func, a, b, args=(), full_output=0, epsabs=1.49e-08, epsrel=1.49e-08, limit=50, points=None, weight=None, wvar=None, wopts=None, maxp1=50, limlst=50)\n",
        "    Compute a definite integral.\n",
        "    \n",
        "    Integrate func from `a` to `b` (possibly infinite interval) using a\n",
        "    technique from the Fortran library QUADPACK.\n",
        "    \n",
        "    Run scipy.integrate.quad_explain() for more information on the\n",
        "    more esoteric inputs and outputs.\n",
        "    \n",
        "    Parameters\n",
        "    ----------\n",
        "    func : function\n",
        "        A Python function or method to integrate.  If `func` takes many\n",
        "        arguments, it is integrated along the axis corresponding to the\n",
        "        first argument.\n",
        "    a : float\n",
        "        Lower limit of integration (use -numpy.inf for -infinity).\n",
        "    b : float\n",
        "        Upper limit of integration (use numpy.inf for +infinity).\n",
        "    args : tuple, optional\n",
        "        Extra arguments to pass to `func`.\n",
        "    full_output : int, optional\n",
        "        Non-zero to return a dictionary of integration information.\n",
        "        If non-zero, warning messages are also suppressed and the\n",
        "        message is appended to the output tuple.\n",
        "    \n",
        "    Returns\n",
        "    -------\n",
        "    y : float\n",
        "        The integral of func from `a` to `b`.\n",
        "    abserr : float\n",
        "        An estimate of the absolute error in the result.\n",
        "    infodict : dict\n",
        "        A dictionary containing additional information.\n",
        "        Run scipy.integrate.quad_explain() for more information.\n",
        "    message :\n",
        "        A convergence message.\n",
        "    explain :\n",
        "        Appended only with 'cos' or 'sin' weighting and infinite\n",
        "        integration limits, it contains an explanation of the codes in\n",
        "        infodict['ierlst']\n",
        "    \n",
        "    Other Parameters\n",
        "    ----------------\n",
        "    epsabs : float or int, optional\n",
        "        Absolute error tolerance.\n",
        "    epsrel : float or int, optional\n",
        "        Relative error tolerance.\n",
        "    limit : float or int, optional\n",
        "        An upper bound on the number of subintervals used in the adaptive\n",
        "        algorithm.\n",
        "    points : (sequence of floats,ints), optional\n",
        "        A sequence of break points in the bounded integration interval\n",
        "        where local difficulties of the integrand may occur (e.g.,\n",
        "        singularities, discontinuities). The sequence does not have\n",
        "        to be sorted.\n",
        "    weight : float or int, optional\n",
        "        String indicating weighting function.\n",
        "    wvar : optional\n",
        "        Variables for use with weighting functions.\n",
        "    wopts : optional\n",
        "        Optional input for reusing Chebyshev moments.\n",
        "    maxp1 : float or int, optional\n",
        "        An upper bound on the number of Chebyshev moments.\n",
        "    limlst : int, optional\n",
        "        Upper bound on the number of cylces (>=3) for use with a sinusoidal\n",
        "        weighting and an infinite end-point.\n",
        "    \n",
        "    See Also\n",
        "    --------\n",
        "    dblquad : double integral\n",
        "    tplquad : triple integral\n",
        "    nquad : n-dimensional integrals (uses `quad` recursively)\n",
        "    fixed_quad : fixed-order Gaussian quadrature\n",
        "    quadrature : adaptive Gaussian quadrature\n",
        "    odeint : ODE integrator\n",
        "    ode : ODE integrator\n",
        "    simps : integrator for sampled data\n",
        "    romb : integrator for sampled data\n",
        "    scipy.special : for coefficients and roots of orthogonal polynomials\n",
        "    \n",
        "    Examples\n",
        "    --------\n",
        "    Calculate :math:`\\int^4_0 x^2 dx` and compare with an analytic result\n",
        "    \n",
        "    >>> from scipy import integrate\n",
        "    >>> x2 = lambda x: x**2\n",
        "    >>> integrate.quad(x2, 0, 4)\n",
        "    (21.333333333333332, 2.3684757858670003e-13)\n",
        "    >>> print(4**3 / 3.)  # analytical result\n",
        "    21.3333333333\n",
        "    \n",
        "    Calculate :math:`\\int^\\infty_0 e^{-x} dx`\n",
        "    \n",
        "    >>> invexp = lambda x: np.exp(-x)\n",
        "    >>> integrate.quad(invexp, 0, np.inf)\n",
        "    (1.0, 5.842605999138044e-11)\n",
        "    \n",
        "    >>> f = lambda x,a : a*x\n",
        "    >>> y, err = integrate.quad(f, 0, 1, args=(1,))\n",
        "    >>> y\n",
        "    0.5\n",
        "    >>> y, err = integrate.quad(f, 0, 1, args=(3,))\n",
        "    >>> y\n",
        "    1.5\n",
        "\n"
       ]
      }
     ],
     "prompt_number": 52
    },
    {
     "cell_type": "code",
     "collapsed": false,
     "input": [],
     "language": "python",
     "metadata": {},
     "outputs": []
    }
   ],
   "metadata": {}
  }
 ]
}